{
 "cells": [
  {
   "cell_type": "code",
   "execution_count": 16,
   "metadata": {},
   "outputs": [
    {
     "name": "stdout",
     "output_type": "stream",
     "text": [
      "theta0: \n",
      " [-11.3656148]\n",
      "theta1: \n",
      " [[ 0.27665941]]\n"
     ]
    },
    {
     "data": {
      "image/png": "[encoded data removed]",
      "text/plain": [
       "<matplotlib.figure.Figure at 0x7f06f01ac7f0>"
      ]
     },
     "metadata": {},
     "output_type": "display_data"
    }
   ],
   "source": [
    "import matplotlib.pyplot as plt\n",
    "import numpy as np\n",
    "from sklearn import datasets, linear_model\n",
    "from sklearn.metrics import mean_squared_error, r2_score\n",
    "\n",
    "\n",
    "house_size = [[100],[200],[300],[400],[500],[600],[1000],[1200],[1600]] #house_size\n",
    "house_rent = [[20],[50],[70],[80],[130],[180],[250],[300],[450]]#house_rent\n",
    "\n",
    "# Create linear regression object\n",
    "regr = linear_model.LinearRegression()\n",
    "\n",
    "# Train the model using the training sets\n",
    "regr.fit(house_size, house_rent)\n",
    "\n",
    "# Make predictions using the testing set\n",
    "house_rent_pred = regr.predict(house_size)\n",
    "\n",
    "# The coefficients\n",
    "print('theta0: \\n', regr.intercept_)\n",
    "print('theta1: \\n', regr.coef_)\n",
    "#print()\n",
    "\n",
    "# Plot outputs\n",
    "plt.scatter(house_size, house_rent,  color='black')\n",
    "plt.plot(house_size, house_rent_pred, color='blue', linewidth=3)\n",
    "\n",
    "plt.xticks(())\n",
    "plt.yticks(())\n",
    "\n",
    "plt.show()"
   ]
  },
  {
   "cell_type": "code",
   "execution_count": 17,
   "metadata": {},
   "outputs": [
    {
     "name": "stdout",
     "output_type": "stream",
     "text": [
      "[[ 292.95973885]]\n"
     ]
    }
   ],
   "source": [
    "#What will be the rent of a house with size 1100? \n",
    "print( regr.predict(1100))"
   ]
  },
  {
   "cell_type": "code",
   "execution_count": null,
   "metadata": {
    "collapsed": true
   },
   "outputs": [],
   "source": []
  }
 ],
 "metadata": {
  "kernelspec": {
   "display_name": "Python 3",
   "language": "python",
   "name": "python3"
  },
  "language_info": {
   "codemirror_mode": {
    "name": "ipython",
    "version": 3
   },
   "file_extension": ".py",
   "mimetype": "text/x-python",
   "name": "python",
   "nbconvert_exporter": "python",
   "pygments_lexer": "ipython3",
   "version": "3.6.1"
  }
 },
 "nbformat": 4,
 "nbformat_minor": 2
}
